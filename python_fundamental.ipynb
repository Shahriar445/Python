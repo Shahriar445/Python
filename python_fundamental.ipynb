{
  "nbformat": 4,
  "nbformat_minor": 0,
  "metadata": {
    "colab": {
      "provenance": [],
      "authorship_tag": "ABX9TyM5iTfPQ51AJer6DG2gRU7M",
      "include_colab_link": true
    },
    "kernelspec": {
      "name": "python3",
      "display_name": "Python 3"
    },
    "language_info": {
      "name": "python"
    }
  },
  "cells": [
    {
      "cell_type": "markdown",
      "metadata": {
        "id": "view-in-github",
        "colab_type": "text"
      },
      "source": [
        "<a href=\"https://colab.research.google.com/github/Shahriar445/Python-if-else-problem-/blob/main/python_fundamental.ipynb\" target=\"_parent\"><img src=\"https://colab.research.google.com/assets/colab-badge.svg\" alt=\"Open In Colab\"/></a>"
      ]
    },
    {
      "cell_type": "code",
      "execution_count": null,
      "metadata": {
        "colab": {
          "base_uri": "https://localhost:8080/"
        },
        "id": "-UPxFMDeQAzC",
        "outputId": "ed13ce8c-6d83-4b2c-9558-860cc3b36d1a"
      },
      "outputs": [
        {
          "output_type": "stream",
          "name": "stdout",
          "text": [
            "<class 'float'>\n"
          ]
        }
      ],
      "source": [
        "x = 34.4\n",
        "print (type(x))"
      ]
    },
    {
      "cell_type": "code",
      "source": [
        "y= -34444444444444444444444444\n",
        "print(type(y))"
      ],
      "metadata": {
        "colab": {
          "base_uri": "https://localhost:8080/"
        },
        "id": "a9vnN8tvQXa7",
        "outputId": "5a8c7817-f8c3-48ba-a6cd-e7295116ddea"
      },
      "execution_count": null,
      "outputs": [
        {
          "output_type": "stream",
          "name": "stdout",
          "text": [
            "<class 'int'>\n"
          ]
        }
      ]
    },
    {
      "cell_type": "code",
      "source": [
        "w = float(\"34.3\")\n",
        "print(w)"
      ],
      "metadata": {
        "colab": {
          "base_uri": "https://localhost:8080/"
        },
        "id": "Uja76ybRQj8r",
        "outputId": "06b0ad1d-a288-4f0b-dfde-6ae8b8ca4fe8"
      },
      "execution_count": null,
      "outputs": [
        {
          "output_type": "stream",
          "name": "stdout",
          "text": [
            "34.3\n"
          ]
        }
      ]
    },
    {
      "cell_type": "code",
      "source": [
        "print(w+x)"
      ],
      "metadata": {
        "colab": {
          "base_uri": "https://localhost:8080/"
        },
        "id": "kCjfdScaQ08f",
        "outputId": "b7a24ba7-83d0-484b-eae8-4e73acdb72cc"
      },
      "execution_count": null,
      "outputs": [
        {
          "output_type": "stream",
          "name": "stdout",
          "text": [
            "68.69999999999999\n"
          ]
        }
      ]
    },
    {
      "cell_type": "code",
      "source": [
        "print (str(x))"
      ],
      "metadata": {
        "colab": {
          "base_uri": "https://localhost:8080/"
        },
        "id": "KujI2-pPQ4Yz",
        "outputId": "bca3d518-e331-48e5-9464-1bad97c5a69b"
      },
      "execution_count": null,
      "outputs": [
        {
          "output_type": "stream",
          "name": "stdout",
          "text": [
            "34.4\n"
          ]
        }
      ]
    },
    {
      "cell_type": "code",
      "source": [
        "print(x+3)"
      ],
      "metadata": {
        "colab": {
          "base_uri": "https://localhost:8080/"
        },
        "id": "Dn9C_TxPQ9yz",
        "outputId": "23961603-2487-4bdf-e680-25fcc7550f40"
      },
      "execution_count": null,
      "outputs": [
        {
          "output_type": "stream",
          "name": "stdout",
          "text": [
            "37.4\n"
          ]
        }
      ]
    },
    {
      "cell_type": "code",
      "source": [
        "for x in \"bangal\":\n",
        "  print(x)"
      ],
      "metadata": {
        "colab": {
          "base_uri": "https://localhost:8080/"
        },
        "id": "0FbxzbHBRAat",
        "outputId": "58255c51-c528-430f-ef07-1641b6adc2f6"
      },
      "execution_count": null,
      "outputs": [
        {
          "output_type": "stream",
          "name": "stdout",
          "text": [
            "b\n",
            "a\n",
            "n\n",
            "g\n",
            "a\n",
            "l\n"
          ]
        }
      ]
    },
    {
      "cell_type": "code",
      "source": [
        "a= \"test text \"\n",
        "print(len(a))"
      ],
      "metadata": {
        "colab": {
          "base_uri": "https://localhost:8080/"
        },
        "id": "yTnyA7AlRR9v",
        "outputId": "09a95258-82aa-4314-ca39-9721b476d214"
      },
      "execution_count": null,
      "outputs": [
        {
          "output_type": "stream",
          "name": "stdout",
          "text": [
            "10\n"
          ]
        }
      ]
    },
    {
      "cell_type": "code",
      "source": [
        "txt = \"test result \"\n",
        "print(\"free \" in txt )"
      ],
      "metadata": {
        "colab": {
          "base_uri": "https://localhost:8080/"
        },
        "id": "bLuOqIh2RcMO",
        "outputId": "93dee4e4-c0f7-4fb4-cc26-bfe5fd05c534"
      },
      "execution_count": null,
      "outputs": [
        {
          "output_type": "stream",
          "name": "stdout",
          "text": [
            "False\n"
          ]
        }
      ]
    },
    {
      "cell_type": "code",
      "source": [
        "s = \"hello\"\n",
        "if \"hello \" in s:\n",
        "  print(\"OH it' ok 'free' is present \")\n",
        "else :\n",
        "  print (\"Oh No !\")"
      ],
      "metadata": {
        "colab": {
          "base_uri": "https://localhost:8080/"
        },
        "id": "199T0VxyRjjh",
        "outputId": "85f0243b-6f51-4e41-f5e8-b38bf18b5350"
      },
      "execution_count": null,
      "outputs": [
        {
          "output_type": "stream",
          "name": "stdout",
          "text": [
            "Oh No !\n"
          ]
        }
      ]
    },
    {
      "cell_type": "code",
      "source": [
        "txt = \"hey\"\n",
        "print(\"example\" not in txt)"
      ],
      "metadata": {
        "colab": {
          "base_uri": "https://localhost:8080/"
        },
        "id": "3-omZracR3VU",
        "outputId": "3ed8eee2-47a3-41b3-eff9-60476576c33f"
      },
      "execution_count": null,
      "outputs": [
        {
          "output_type": "stream",
          "name": "stdout",
          "text": [
            "True\n"
          ]
        }
      ]
    },
    {
      "cell_type": "code",
      "source": [
        "if \"hey\" not in txt:\n",
        "  print(\"OH No!\")\n",
        "else :\n",
        "  print(\"Oh yes\")"
      ],
      "metadata": {
        "colab": {
          "base_uri": "https://localhost:8080/"
        },
        "id": "m5Z6VrZ4SAdd",
        "outputId": "fb6df55a-4f43-490b-b86c-7864058c8101"
      },
      "execution_count": null,
      "outputs": [
        {
          "output_type": "stream",
          "name": "stdout",
          "text": [
            "Oh yes\n"
          ]
        }
      ]
    },
    {
      "cell_type": "markdown",
      "source": [
        "**Slicing**\n",
        "You can return a range of characters by using the slice syntax.\n",
        "\n",
        "Specify the start index and the end index, separated by a colon, to return a part of the string."
      ],
      "metadata": {
        "id": "AyeFec8NSV0b"
      }
    },
    {
      "cell_type": "code",
      "source": [
        "b = \"Hello Word\"\n",
        "print(b[6:10])"
      ],
      "metadata": {
        "colab": {
          "base_uri": "https://localhost:8080/"
        },
        "id": "dgUCBS2JSfq-",
        "outputId": "be665380-8600-43ff-847d-ea4558caf970"
      },
      "execution_count": null,
      "outputs": [
        {
          "output_type": "stream",
          "name": "stdout",
          "text": [
            "Word\n"
          ]
        }
      ]
    },
    {
      "cell_type": "code",
      "source": [],
      "metadata": {
        "id": "6TRDSBL1TOkE"
      },
      "execution_count": null,
      "outputs": []
    },
    {
      "cell_type": "markdown",
      "source": [
        "**Slice** to the **start**\n"
      ],
      "metadata": {
        "id": "29Te_C4iTB_P"
      }
    },
    {
      "cell_type": "code",
      "source": [
        "print(b[:5])"
      ],
      "metadata": {
        "colab": {
          "base_uri": "https://localhost:8080/"
        },
        "id": "j9m8aJAuSwSR",
        "outputId": "16eb38f2-c267-4a80-da85-a3160757de9f"
      },
      "execution_count": null,
      "outputs": [
        {
          "output_type": "stream",
          "name": "stdout",
          "text": [
            "Hello\n"
          ]
        }
      ]
    },
    {
      "cell_type": "markdown",
      "source": [
        "**Slice to the end **"
      ],
      "metadata": {
        "id": "-NJpYLUGTHhA"
      }
    },
    {
      "cell_type": "code",
      "source": [
        "print(b[5:])"
      ],
      "metadata": {
        "colab": {
          "base_uri": "https://localhost:8080/"
        },
        "id": "PjphQiWMS_I5",
        "outputId": "ba830efb-a049-4b57-8fca-2dc85d3d95db"
      },
      "execution_count": null,
      "outputs": [
        {
          "output_type": "stream",
          "name": "stdout",
          "text": [
            " Word\n"
          ]
        }
      ]
    },
    {
      "cell_type": "code",
      "source": [
        "print(b[-5:-2])"
      ],
      "metadata": {
        "colab": {
          "base_uri": "https://localhost:8080/"
        },
        "id": "2pH8VsH1Tay3",
        "outputId": "c6271e56-58cd-4116-fde4-893e8a0e3ae7"
      },
      "execution_count": null,
      "outputs": [
        {
          "output_type": "stream",
          "name": "stdout",
          "text": [
            " Wo\n"
          ]
        }
      ]
    },
    {
      "cell_type": "markdown",
      "source": [
        "Modify Strings"
      ],
      "metadata": {
        "id": "j9wRMVhSTpr0"
      }
    },
    {
      "cell_type": "code",
      "source": [
        "print(b.upper())"
      ],
      "metadata": {
        "colab": {
          "base_uri": "https://localhost:8080/"
        },
        "id": "eETQIE9_TsiM",
        "outputId": "49ff9299-77a8-4478-98f7-c0ffa332f1b5"
      },
      "execution_count": null,
      "outputs": [
        {
          "output_type": "stream",
          "name": "stdout",
          "text": [
            "HELLO WORD\n"
          ]
        }
      ]
    },
    {
      "cell_type": "code",
      "source": [
        "print(b.lower())"
      ],
      "metadata": {
        "colab": {
          "base_uri": "https://localhost:8080/"
        },
        "id": "fOxs3_FdTz9T",
        "outputId": "5866f888-2b0a-47d5-9b33-a1a29230d9af"
      },
      "execution_count": null,
      "outputs": [
        {
          "output_type": "stream",
          "name": "stdout",
          "text": [
            "hello word\n"
          ]
        }
      ]
    },
    {
      "cell_type": "markdown",
      "source": [
        "Remove **WhiteSpace**\n"
      ],
      "metadata": {
        "id": "dQ3fnTqpUF0w"
      }
    },
    {
      "cell_type": "code",
      "source": [
        "test = \" Hello! World!  \"\n",
        "print(test.strip())"
      ],
      "metadata": {
        "colab": {
          "base_uri": "https://localhost:8080/"
        },
        "id": "J_pgss90T2oK",
        "outputId": "f1fa26ee-95e3-4515-d751-19049c393614"
      },
      "execution_count": null,
      "outputs": [
        {
          "output_type": "stream",
          "name": "stdout",
          "text": [
            "Hello! World!\n"
          ]
        }
      ]
    },
    {
      "cell_type": "markdown",
      "source": [
        "Replace string"
      ],
      "metadata": {
        "id": "HNma8kmGUddC"
      }
    },
    {
      "cell_type": "code",
      "source": [
        "a = \"hello wordl \"\n",
        "print(a.replace (\"h\",\"j\"))"
      ],
      "metadata": {
        "colab": {
          "base_uri": "https://localhost:8080/"
        },
        "id": "vQdVzWJ-UOrP",
        "outputId": "9c5350ba-308a-4595-943a-f3defa09adb2"
      },
      "execution_count": null,
      "outputs": [
        {
          "output_type": "stream",
          "name": "stdout",
          "text": [
            "jello wordl \n"
          ]
        }
      ]
    },
    {
      "cell_type": "code",
      "source": [
        "print(a.splite (\"::\"))"
      ],
      "metadata": {
        "id": "xQEVZVh8UcOH"
      },
      "execution_count": null,
      "outputs": []
    },
    {
      "cell_type": "markdown",
      "source": [
        "# 2nd Day\n",
        "\n",
        "---\n"
      ],
      "metadata": {
        "id": "ajbeBepiPgVf"
      }
    },
    {
      "cell_type": "markdown",
      "source": [
        "# String Format\n",
        "The format() method takes the passed arguments, formats them, and places them in the string where the placeholders {} are:\n"
      ],
      "metadata": {
        "id": "IoJ-yQllRM4u"
      }
    },
    {
      "cell_type": "code",
      "source": [
        "age =45\n",
        "txt =\"hey from gazipur {}\" # here inside { } value will store\n",
        "print(txt.format(age))"
      ],
      "metadata": {
        "colab": {
          "base_uri": "https://localhost:8080/"
        },
        "id": "_3_N9t5rRbVS",
        "outputId": "21ae964b-491a-4241-e2aa-0e073b05fea1"
      },
      "execution_count": null,
      "outputs": [
        {
          "output_type": "stream",
          "name": "stdout",
          "text": [
            "hey from gazipur 45\n"
          ]
        }
      ]
    },
    {
      "cell_type": "code",
      "source": [
        "itm =34.4\n",
        "myItemName= \"APPle is  {} pieces of item {} for {} dollars.\"\n",
        "\n",
        "price = 334.3\n",
        "print(myItemName.format(itm,price,age))"
      ],
      "metadata": {
        "colab": {
          "base_uri": "https://localhost:8080/"
        },
        "id": "tkHkpE13R7zl",
        "outputId": "c9a2588a-235b-4a06-e8eb-98b29f460253"
      },
      "execution_count": null,
      "outputs": [
        {
          "output_type": "stream",
          "name": "stdout",
          "text": [
            "APPle is  34.4 pieces of item 334.3 for 45 dollars.\n"
          ]
        }
      ]
    },
    {
      "cell_type": "markdown",
      "source": [
        "Escape **Character**\n",
        "\n",
        "In some case we are not able to used inside string \" \" by using \\ we can used it  "
      ],
      "metadata": {
        "id": "SSZbfUPHV40U"
      }
    },
    {
      "cell_type": "code",
      "source": [
        "txt =\"We are the so-called \\\"Vikings\\\" from the north.\"\n",
        "print(txt)"
      ],
      "metadata": {
        "colab": {
          "base_uri": "https://localhost:8080/"
        },
        "id": "9W5gA6xXWKfd",
        "outputId": "2bf9a3ca-1528-48a0-b4a7-bd8f170971f2"
      },
      "execution_count": null,
      "outputs": [
        {
          "output_type": "stream",
          "name": "stdout",
          "text": [
            "We are the so-called \"Vikings\" from the north.\n"
          ]
        }
      ]
    },
    {
      "cell_type": "markdown",
      "source": [
        "# Check digit or Not"
      ],
      "metadata": {
        "id": "BXvjXk23WfY-"
      }
    },
    {
      "cell_type": "code",
      "source": [
        "x = \"aa\"\n",
        "y =x.isdigit()\n",
        "print(y)\n",
        "x = \"ASDF\"\n",
        "print(x.isupper())\n",
        "ch=\"ok\"\n",
        "print(\"#\".join(ch))"
      ],
      "metadata": {
        "colab": {
          "base_uri": "https://localhost:8080/"
        },
        "id": "qBKQjkUJXqjx",
        "outputId": "55140b04-b2c1-44bd-ce48-a789b46eaed9"
      },
      "execution_count": null,
      "outputs": [
        {
          "output_type": "stream",
          "name": "stdout",
          "text": [
            "False\n",
            "True\n",
            "o#k\n"
          ]
        }
      ]
    },
    {
      "cell_type": "code",
      "source": [
        "print(34)"
      ],
      "metadata": {
        "colab": {
          "base_uri": "https://localhost:8080/"
        },
        "id": "1bGhYKlwYBGl",
        "outputId": "17ad4cca-ebb1-417c-bed2-69ba02369c59"
      },
      "execution_count": 1,
      "outputs": [
        {
          "output_type": "stream",
          "name": "stdout",
          "text": [
            "34\n"
          ]
        }
      ]
    }
  ]
}